{
    "cells": [
        {
            "cell_type": "markdown",
            "metadata": {
                "collapsed": true
            },
            "source": "# Introduction/Business Problem"
        },
        {
            "cell_type": "markdown",
            "metadata": {},
            "source": "**Background on Data**"
        },
        {
            "cell_type": "markdown",
            "metadata": {},
            "source": "The data was gathered weekly in Seattle, from 2004 to present. It is gathered by the Seattle Department of Transportation. There are 37 attributes in the data, including location, collision type, and fatalities.\n\nThis data will be used to solve this problem by focusing on certain attributes, such as the address type, severity code, and inattention. Using these attributes, and others, will help identify if certain areas/locations are more dangerous. "
        },
        {
            "cell_type": "markdown",
            "metadata": {},
            "source": "**Addressing the Problem**"
        },
        {
            "cell_type": "markdown",
            "metadata": {},
            "source": "The problem for this project is predicting the severity of traffic collisions based on accident data. This data could help identify safety issues for  drivers, motorists, pedestrians, and cyclists. This data could be helpful for emergency response teams, pedestrians, and the DOT."
        },
        {
            "cell_type": "markdown",
            "metadata": {},
            "source": "Emergency response teams could know which locations are more susceptible to accidents and the severity of the accident. Thus, they will be more prepared for specific accidents. Further, the reasons for the accidents can be discovered and hopefully addressed.\n\nPedestrians could learn which areas are more dangerous for them to be in, as they could be injured due to certain factors of the location, such as a tight corner or no stop light.\n\nThe DOT could use this data to fix areas where there are a high amount of collisions due to a lack of signange (stop signs, etc.) or lights."
        },
        {
            "cell_type": "code",
            "execution_count": null,
            "metadata": {},
            "outputs": [],
            "source": ""
        }
    ],
    "metadata": {
        "kernelspec": {
            "display_name": "Python 3.6",
            "language": "python",
            "name": "python3"
        },
        "language_info": {
            "codemirror_mode": {
                "name": "ipython",
                "version": 3
            },
            "file_extension": ".py",
            "mimetype": "text/x-python",
            "name": "python",
            "nbconvert_exporter": "python",
            "pygments_lexer": "ipython3",
            "version": "3.6.9"
        }
    },
    "nbformat": 4,
    "nbformat_minor": 1
}